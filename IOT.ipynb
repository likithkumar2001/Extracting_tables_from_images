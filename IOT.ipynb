{
  "nbformat": 4,
  "nbformat_minor": 0,
  "metadata": {
    "colab": {
      "name": "IOT.ipynb",
      "provenance": [],
      "collapsed_sections": []
    },
    "kernelspec": {
      "name": "python3",
      "display_name": "Python 3"
    },
    "language_info": {
      "name": "python"
    }
  },
  "cells": [
    {
      "cell_type": "code",
      "metadata": {
        "colab": {
          "base_uri": "https://localhost:8080/"
        },
        "id": "v8wdxoGzFqi0",
        "outputId": "6208bc0c-853d-4d93-eab1-2a08ff37d010"
      },
      "source": [
        "from google.colab import drive\n",
        "drive.mount('/content/drive')"
      ],
      "execution_count": null,
      "outputs": [
        {
          "output_type": "stream",
          "name": "stdout",
          "text": [
            "Drive already mounted at /content/drive; to attempt to forcibly remount, call drive.mount(\"/content/drive\", force_remount=True).\n"
          ]
        }
      ]
    },
    {
      "cell_type": "code",
      "metadata": {
        "id": "-AgSvDVKRU6v"
      },
      "source": [
        "import cv2\n",
        "import matplotlib.pyplot as plt\n",
        "import numpy as np"
      ],
      "execution_count": null,
      "outputs": []
    },
    {
      "cell_type": "code",
      "metadata": {
        "colab": {
          "base_uri": "https://localhost:8080/"
        },
        "id": "MtFWvvSKSeFa",
        "outputId": "93319179-ba9e-4d5e-c787-11ebf9e7328d"
      },
      "source": [
        "!pip install pytesseract\n",
        "!sudo apt install tesseract-ocr\n",
        "import pytesseract"
      ],
      "execution_count": null,
      "outputs": [
        {
          "output_type": "stream",
          "name": "stdout",
          "text": [
            "Collecting pytesseract\n",
            "  Downloading pytesseract-0.3.8.tar.gz (14 kB)\n",
            "Requirement already satisfied: Pillow in /usr/local/lib/python3.7/dist-packages (from pytesseract) (7.1.2)\n",
            "Building wheels for collected packages: pytesseract\n",
            "  Building wheel for pytesseract (setup.py) ... \u001b[?25l\u001b[?25hdone\n",
            "  Created wheel for pytesseract: filename=pytesseract-0.3.8-py2.py3-none-any.whl size=14072 sha256=2375df6a99a6d7f6d28878fef1e0389015ed6a3e179d391ff456b9aa94fe7e90\n",
            "  Stored in directory: /root/.cache/pip/wheels/a4/89/b9/3f11250225d0f90e5454fcc30fd1b7208db226850715aa9ace\n",
            "Successfully built pytesseract\n",
            "Installing collected packages: pytesseract\n",
            "Successfully installed pytesseract-0.3.8\n",
            "Reading package lists... Done\n",
            "Building dependency tree       \n",
            "Reading state information... Done\n",
            "The following additional packages will be installed:\n",
            "  tesseract-ocr-eng tesseract-ocr-osd\n",
            "The following NEW packages will be installed:\n",
            "  tesseract-ocr tesseract-ocr-eng tesseract-ocr-osd\n",
            "0 upgraded, 3 newly installed, 0 to remove and 40 not upgraded.\n",
            "Need to get 4,795 kB of archives.\n",
            "After this operation, 15.8 MB of additional disk space will be used.\n",
            "Get:1 http://archive.ubuntu.com/ubuntu bionic/universe amd64 tesseract-ocr-eng all 4.00~git24-0e00fe6-1.2 [1,588 kB]\n",
            "Get:2 http://archive.ubuntu.com/ubuntu bionic/universe amd64 tesseract-ocr-osd all 4.00~git24-0e00fe6-1.2 [2,989 kB]\n",
            "Get:3 http://archive.ubuntu.com/ubuntu bionic/universe amd64 tesseract-ocr amd64 4.00~git2288-10f4998a-2 [218 kB]\n",
            "Fetched 4,795 kB in 2s (2,604 kB/s)\n",
            "debconf: unable to initialize frontend: Dialog\n",
            "debconf: (No usable dialog-like program is installed, so the dialog based frontend cannot be used. at /usr/share/perl5/Debconf/FrontEnd/Dialog.pm line 76, <> line 3.)\n",
            "debconf: falling back to frontend: Readline\n",
            "debconf: unable to initialize frontend: Readline\n",
            "debconf: (This frontend requires a controlling tty.)\n",
            "debconf: falling back to frontend: Teletype\n",
            "dpkg-preconfigure: unable to re-open stdin: \n",
            "Selecting previously unselected package tesseract-ocr-eng.\n",
            "(Reading database ... 148492 files and directories currently installed.)\n",
            "Preparing to unpack .../tesseract-ocr-eng_4.00~git24-0e00fe6-1.2_all.deb ...\n",
            "Unpacking tesseract-ocr-eng (4.00~git24-0e00fe6-1.2) ...\n",
            "Selecting previously unselected package tesseract-ocr-osd.\n",
            "Preparing to unpack .../tesseract-ocr-osd_4.00~git24-0e00fe6-1.2_all.deb ...\n",
            "Unpacking tesseract-ocr-osd (4.00~git24-0e00fe6-1.2) ...\n",
            "Selecting previously unselected package tesseract-ocr.\n",
            "Preparing to unpack .../tesseract-ocr_4.00~git2288-10f4998a-2_amd64.deb ...\n",
            "Unpacking tesseract-ocr (4.00~git2288-10f4998a-2) ...\n",
            "Setting up tesseract-ocr-osd (4.00~git24-0e00fe6-1.2) ...\n",
            "Setting up tesseract-ocr-eng (4.00~git24-0e00fe6-1.2) ...\n",
            "Setting up tesseract-ocr (4.00~git2288-10f4998a-2) ...\n",
            "Processing triggers for man-db (2.8.3-2ubuntu0.1) ...\n"
          ]
        }
      ]
    },
    {
      "cell_type": "code",
      "metadata": {
        "id": "51XpoMb0RuOR"
      },
      "source": [
        "def pre_processing(img_bin):\n",
        "  #vertical lines\n",
        "  vertical_kernel = cv2.getStructuringElement(cv2.MORPH_RECT, (1, np.array(img_bin).shape[1]//220))\n",
        "  eroded_image = cv2.erode(img_bin, vertical_kernel, iterations=5)\n",
        "  vertical_lines = cv2.dilate(eroded_image, vertical_kernel, iterations=5)\n",
        "  #horizontal lines\n",
        "  hor_kernel = cv2.getStructuringElement(cv2.MORPH_RECT, (np.array(img_bin).shape[1]//50, 1))\n",
        "  image_2 = cv2.erode(img_bin, hor_kernel, iterations=5)\n",
        "  horizontal_lines = cv2.dilate(image_2, hor_kernel, iterations=5)\n",
        "  #tables\n",
        "  tables  = vertical_lines+horizontal_lines\n",
        "  thresh, vertical_horizontal_lines = cv2.threshold(tables,100,255, cv2.THRESH_BINARY)\n",
        "  #3d to 2d\n",
        "  vertical_horizontal_lines=~vertical_horizontal_lines[:,:,0]\n",
        "  return vertical_horizontal_lines"
      ],
      "execution_count": null,
      "outputs": []
    },
    {
      "cell_type": "code",
      "metadata": {
        "id": "TzA0aNt2TtKp"
      },
      "source": [
        "def div_tables(img_rgb,vertical_horizontal_lines):\n",
        "  lis_dup = []\n",
        "  lis_orig = []\n",
        "  lis = []\n",
        "  lis2 =[]\n",
        "  cnt = 0\n",
        "  name = 0\n",
        "  for i in range(len(vertical_horizontal_lines)):\n",
        "    if list(vertical_horizontal_lines[i]).count(0) == 0:\n",
        "      if len(lis) > 10:\n",
        "        lis_dup.append([lis])\n",
        "        lis_orig.append(np.array(lis2))\n",
        "      lis = []\n",
        "      lis2 = []\n",
        "      cnt = 0\n",
        "      continue\n",
        "    else:\n",
        "      lis.append(list(vertical_horizontal_lines[i]))\n",
        "      lis2.append(list(img_rgb[i]))\n",
        "      cnt = cnt + 1\n",
        "    name = name +1\n",
        "  return lis_dup,lis_orig        "
      ],
      "execution_count": null,
      "outputs": []
    },
    {
      "cell_type": "code",
      "metadata": {
        "id": "hiIGn-tAVbMB"
      },
      "source": [
        "def extract_text(lis_dup,lis_orig):\n",
        "  contours, hierarchy = cv2.findContours(np.array(lis_dup), cv2.RETR_EXTERNAL, cv2.CHAIN_APPROX_SIMPLE)\n",
        "  boundingBoxes = [cv2.boundingRect(c) for c in contours]\n",
        "  (contours, boundingBoxes) = zip(*sorted(zip(contours, boundingBoxes),\n",
        "  key=lambda x:x[1][1]))\n",
        "  boxes = []\n",
        "  print(\"one\")\n",
        "  for contour in contours:\n",
        "      x, y, w, h = cv2.boundingRect(contour)\n",
        "      image = cv2.rectangle(lis_orig,(x,y),(x+w,y+h),(0,255,0),2)\n",
        "      boxes.append([x,y,w,h])\n",
        "  rows=[]\n",
        "  columns=[]\n",
        "  heights = [boundingBoxes[i][3] for i in range(len(boundingBoxes))]\n",
        "  columns.append(boxes[0])\n",
        "  previous=boxes[0]\n",
        "  for i in range(1,len(boxes)):\n",
        "      if(boxes[i][1]<=previous[1]):\n",
        "          columns.append(boxes[i])\n",
        "          previous=boxes[i]\n",
        "          if(i==len(boxes)-1):\n",
        "              rows.append(columns)\n",
        "      else:\n",
        "          rows.append(columns)\n",
        "          columns=[]\n",
        "          previous = boxes[i]\n",
        "          columns.append(boxes[i])\n",
        "  dataframe_final=[]\n",
        "  for j in range(len(rows)):\n",
        "    s=''\n",
        "    for k in range(len(rows[j])):\n",
        "        y,x,w,h = rows[j][k][0],rows[j][k][1], rows[j][k][2],rows[j][k][3]\n",
        "        if len(rows) != 1:\n",
        "          roi = lis_orig[x:x+h, y:y+w]\n",
        "        else:\n",
        "          roi = lis_orig\n",
        "        kernel = cv2.getStructuringElement(cv2.MORPH_RECT, (2, 2))\n",
        "        border = cv2.copyMakeBorder(roi,2,2,2,2, cv2.BORDER_CONSTANT,value=[255,255])\n",
        "        resizing = cv2.resize(border, None, fx=2, fy=2, interpolation=cv2.INTER_CUBIC)\n",
        "        #dilation = cv2.dilate(resizing, kernel,iterations=2)\n",
        "        #erosion = cv2.erode(resizing, kernel,iterations=5)\n",
        "        out = pytesseract.image_to_string(resizing)\n",
        "\n",
        "        s = s +\" \"+ out\n",
        "    dataframe_final.append([s])\n",
        "  return dataframe_final"
      ],
      "execution_count": null,
      "outputs": []
    },
    {
      "cell_type": "code",
      "metadata": {
        "id": "3xW26nuAbMpw"
      },
      "source": [
        "import pandas as pd\n",
        "def data_frm(x):\n",
        "  lat = []\n",
        "  for i in x:\n",
        "    spt = i[0].split(\"\\x0c\")\n",
        "    for j in spt:\n",
        "      if j != '':\n",
        "        lat.append(j.replace(\"\\n\",\"\"))\n",
        "  name = []\n",
        "  info = []\n",
        "  edi = []\n",
        "  for i in reversed(lat):\n",
        "    edi.append(i)\n",
        "  for i in range(len(edi)):\n",
        "    if i %2==0:\n",
        "      name.append(edi[i])\n",
        "    else:\n",
        "      info.append(edi[i])\n",
        "  df = pd.DataFrame(columns = [name[-2],info[-2]])\n",
        "  print(info)\n",
        "  for i in range(len(info)-1):\n",
        "    df=df.append({str(name[-2]):name[i],str(info[-2]):info[i]},ignore_index=True)\n",
        "  return df"
      ],
      "execution_count": null,
      "outputs": []
    },
    {
      "cell_type": "code",
      "metadata": {
        "colab": {
          "base_uri": "https://localhost:8080/",
          "height": 287
        },
        "id": "Qb5UrvFvRYSq",
        "outputId": "3f2a8668-72fc-4b92-e86f-09e104f86d7c"
      },
      "source": [
        "img = '/content/drive/MyDrive/farmers/Kadapa.png'\n",
        "img_bgr = np.array(cv2.imread(img, cv2.IMREAD_COLOR))\n",
        "img_rgb  = np.array(cv2.cvtColor(img_bgr, cv2.COLOR_BGR2RGB))\n",
        "thresh,img_bin = cv2.threshold(img_rgb,128,255,cv2.THRESH_BINARY)\n",
        "img_bin = 255-img_bin\n",
        "img_bin=img_bin[600:,:]\n",
        "plt.imshow(img_bin)\n",
        "cv2.imwrite('./new.jpg',img_bin)"
      ],
      "execution_count": null,
      "outputs": [
        {
          "output_type": "execute_result",
          "data": {
            "text/plain": [
              "True"
            ]
          },
          "metadata": {},
          "execution_count": 14
        },
        {
          "output_type": "display_data",
          "data": {
            "image/png": "[encoded data removed]",
            "text/plain": [
              "<Figure size 432x288 with 1 Axes>"
            ]
          },
          "metadata": {
            "needs_background": "light"
          }
        }
      ]
    },
    {
      "cell_type": "code",
      "metadata": {
        "id": "FcNALcLDRnzB"
      },
      "source": [
        "kernel = cv2.getStructuringElement(cv2.MORPH_RECT, (2, 2))"
      ],
      "execution_count": null,
      "outputs": []
    },
    {
      "cell_type": "code",
      "metadata": {
        "id": "9h6LXqaGTj8a"
      },
      "source": [
        "tables = pre_processing(img_bin)"
      ],
      "execution_count": null,
      "outputs": []
    },
    {
      "cell_type": "code",
      "metadata": {
        "colab": {
          "base_uri": "https://localhost:8080/"
        },
        "id": "JbN-c-9ERsIZ",
        "outputId": "31ce0147-8c4a-4788-dd56-a8a84f51cd56"
      },
      "source": [
        "cv2.imwrite('./nw5.jpg',tables)"
      ],
      "execution_count": null,
      "outputs": [
        {
          "output_type": "execute_result",
          "data": {
            "text/plain": [
              "True"
            ]
          },
          "metadata": {},
          "execution_count": 12
        }
      ]
    },
    {
      "cell_type": "code",
      "metadata": {
        "id": "-2fm0encVHlZ"
      },
      "source": [
        "lst_tab,lst_values = div_tables(img_bin,tables)"
      ],
      "execution_count": null,
      "outputs": []
    },
    {
      "cell_type": "code",
      "metadata": {
        "colab": {
          "base_uri": "https://localhost:8080/"
        },
        "id": "8I0G-GOtXxMw",
        "outputId": "b0cd7f37-c18b-4d4e-a69d-bc00396d7f31"
      },
      "source": [
        "len(lst_tab)"
      ],
      "execution_count": null,
      "outputs": [
        {
          "output_type": "execute_result",
          "data": {
            "text/plain": [
              "7"
            ]
          },
          "metadata": {},
          "execution_count": 27
        }
      ]
    },
    {
      "cell_type": "code",
      "metadata": {
        "colab": {
          "base_uri": "https://localhost:8080/"
        },
        "id": "YaeN9yKhX-8g",
        "outputId": "326f674c-6306-4d42-97e9-b295a3efbd15"
      },
      "source": [
        "len(lst_values)"
      ],
      "execution_count": null,
      "outputs": [
        {
          "output_type": "execute_result",
          "data": {
            "text/plain": [
              "7"
            ]
          },
          "metadata": {},
          "execution_count": 28
        }
      ]
    },
    {
      "cell_type": "code",
      "metadata": {
        "id": "zj_gE-xwaOsA"
      },
      "source": [
        "for i in range(len(lst_values)):\n",
        "  cv2.imwrite('x'+str(i)+'.jpg',lst_values[i])"
      ],
      "execution_count": null,
      "outputs": []
    },
    {
      "cell_type": "code",
      "metadata": {
        "colab": {
          "base_uri": "https://localhost:8080/"
        },
        "id": "B8LhpSPzsAIA",
        "outputId": "88c99ac4-d13c-4c0a-cbd9-b321b3db501b"
      },
      "source": [
        "d = {}\n",
        "for i in range(len(lst_values)):\n",
        "  x = extract_text(lst_tab[i][0],lst_values[i])\n",
        "  if len(x) != 1:\n",
        "    d[i]=data_frm(x)\n",
        "  else:\n",
        "    d[i]=x[0]\n",
        "    continue"
      ],
      "execution_count": null,
      "outputs": [
        {
          "output_type": "stream",
          "name": "stdout",
          "text": [
            "one\n",
            "[' ', ' ', ' ', ' pm)!', ' 280', ' 290', ' BRU', ' 12.0', ' Re', ' ', ' ', ' ', ' ', ' ', ' ', ' are)', ' aR’', ' 25.3', ' 32.0', ' are', ' SRR', ' 12.0', ' ', ' 12.0', ' 2021-09-08', ' yA PA eee', ' 2021-09-12', ' ', ' ', ' 290 ']\n",
            "one\n",
            "one\n",
            "one\n",
            "one\n",
            "[' In paddy present weather conditions may favourable for the incidence of gallmidgeand leaf mite. To control gall midge apply Carbofuran 3G granules @10 kg per acreand for the control of leaf mite spray Profenophos @2.0 ml or Propargite @2.0 mlee Umey AVE lKele ', ' In paddy present weather conditions may favourable for the incidence of leaf folderand stem borer. To control spray chlorpyriphos @ 2.5ml/lit or cartaphydrochloride.O g/lit or Chlorantraniliprole 0.3 ml/ lit of water. ', ' Crop Specific Advisory', ' Crop Specific AdvisoryIn paddy present weather conditions may favourable for the incidence of leaf folderand stem borer. To control spray chlorpyriphos @ 2.5ml/lit or cartaphydrochloride.O g/lit or Chlorantraniliprole 0.3 ml/ lit of water.In paddy present weather conditions may favourable for the incidence of gallmidgeand leaf mite. To control gall midge apply Carbofuran 3G granules @10 kg per acreand for the control of leaf mite spray Profenophos @2.0 ml or Propargite @2.0 mlem Tmey AVE LKole ']\n",
            "one\n",
            "[' At present cotton crop is in vegetative to flowering stage. Present weather conditionsare favourable for sucking pest incidence. To control sucking pest sprayimidachloprid @ 0.4 ml (or) acetamiprid @ 0.2 g (or) thiomethoxam @ 0.2 g per litre ', ' Farmers are advised to take up thinning and intercultural operations by utilizing theavailable soil moisture which helps in maintaining the optimum plant population andeed free condition for the crop. ', ' resent weather conditions are favourable for incidence of leaf spot in groundnut. Toontrol spary Mancozeb@ 400g + Carbendazim @ 200 g or Hexaconazole @ 400 mlper acre in 200 lit of water and second spray after 15 days from first spraying. ', ' Crop Specific Advisory', ' ']\n",
            "one\n",
            "[' Present weather conditions are favourable for the incidence of leaf blotchdisease in Turmeric. Spray Carbendazim@1.0 g or Mancozeb@2.5 g orThiophanate Methyl@ 1.0 g per lit of water for the control of disease. ', ' For the control of leaf-eating caterpillars in Acid Lime , spray with Fenvalerate2.0 ml or Dimethoate 1.5 ml in water. A chemical DiPel containing Bacillusthuringiensis can be sprayed with 1.0 g per liter of water for better results. ', ' Present weather conditions are favourable for the incidence and spread ofsigatoka leaf spot disease. To prevent the spread of disease propiconazole @1.0 ml (or) tebuconazole + trifloxystrobin @ 1.5 ml per litre for 2-3 times in30 days interval. ', ' Incorporate green manure crops when the crop is at 50 % flowering.It willincreases the soil fertility and water holding capacity of the soil. For thecontrol of leaf webber spray quinolphos@2.0 ml per lit of water. ', ' Horticulture Specific Advisory', ' ']\n"
          ]
        }
      ]
    },
    {
      "cell_type": "code",
      "metadata": {
        "colab": {
          "base_uri": "https://localhost:8080/"
        },
        "id": "vtu-K9JF0JiN",
        "outputId": "fb024e61-f008-4d95-b3f9-5ffb8eacd770"
      },
      "source": [
        "d[1]"
      ],
      "execution_count": null,
      "outputs": [
        {
          "output_type": "execute_result",
          "data": {
            "text/plain": [
              "[' As per the forecast received from Meteorological Centre, Amaravati, very light rainfall to light rainfall\\n(2.0-12.0 mm) forecast during the next five days in Y.S.R dist. The maximum temperature will be 32.0-\\n\\n34.4 °C and the minimum temperature will be 24.9-25.8 °C. Morning relative humidity will be 79-81 %\\n\\nand afternoon relative humidity will be 42-54 %. Mainly North-West winds with a speed of 12.0-14.0\\nmph will blow during the next five days. As per ERFS from August 12th September to September\\n\\n18th, 2021 the maximum temperatures are below normal and minimum temperatures are normal and\\n\\nnormal rainfall may receive over Rayalaseema.\\n\\n \\n\\x0c As per the forecast received from Meteorological Centre, Amaravati, very light rainfall to light rainfall\\n(2.0-12.0 mm) forecast during the next five days in Y.S.R dist. The maximum temperature will be 32.0-\\n\\n34.4 °C and the minimum temperature will be 24.9-25.8 °C. Morning relative humidity will be 79-81 %\\n\\nand afternoon relative humidity will be 42-54 %. Mainly North-West winds with a speed of 12.0-14.0\\nmph will blow during the next five days. As per ERFS from August 12th September to September\\n\\n18th, 2021 the maximum temperatures are below normal and minimum temperatures are normal and\\n\\nnormal rainfall may receive over Rayalaseema.\\n\\n \\n\\x0c']"
            ]
          },
          "metadata": {},
          "execution_count": 33
        }
      ]
    },
    {
      "cell_type": "code",
      "metadata": {
        "colab": {
          "base_uri": "https://localhost:8080/"
        },
        "id": "m8TiJCbdzvbu",
        "outputId": "26d5607c-bdc6-4a63-f7a8-82b8b247dc43"
      },
      "source": [
        "d[2]"
      ],
      "execution_count": null,
      "outputs": [
        {
          "output_type": "execute_result",
          "data": {
            "text/plain": [
              "[' According to Standardised Precipitation Index (SPI) for the period 5th August to 1st September 2021,\\n\\nModerately dry conditions exist in YSR district where as Normalized Difference Vegetation Index\\n(NDVI) map (27.08.2021 to 02.09.2021) the agriculture vigor was moderate over the district.\\n\\n \\n\\x0c According to Standardised Precipitation Index (SPI) for the period 5th August to 1st September 2021,\\n\\nModerately dry conditions exist in YSR district where as Normalized Difference Vegetation Index\\n(NDVI) map (27.08.2021 to 02.09.2021) the agriculture vigor was moderate over the district.\\n\\n \\n\\x0c']"
            ]
          },
          "metadata": {},
          "execution_count": 34
        }
      ]
    },
    {
      "cell_type": "code",
      "metadata": {
        "id": "MyIOmFL-ZEd6"
      },
      "source": [
        "lat = []\n",
        "for i in x:\n",
        "  spt = i[0].split(\"\\x0c\")\n",
        "  for j in spt:\n",
        "    if j != '':\n",
        "      lat.append(j.replace(\"\\n\",\"\"))\n",
        "name = []\n",
        "info = []\n",
        "edi = []\n",
        "for i in reversed(lat):\n",
        "  edi.append(i)\n",
        "for i in range(len(edi)):\n",
        "  if edi[i] != ' ':\n",
        "    if i %2==0:\n",
        "      name.append(edi[i])\n",
        "    else:\n",
        "      info.append(edi[i])"
      ],
      "execution_count": null,
      "outputs": []
    },
    {
      "cell_type": "code",
      "metadata": {
        "colab": {
          "base_uri": "https://localhost:8080/"
        },
        "id": "QUBd9xxJZk6A",
        "outputId": "d32f664a-22b7-48e4-80f6-8dabf8e67769"
      },
      "source": [
        "name"
      ],
      "execution_count": null,
      "outputs": [
        {
          "output_type": "execute_result",
          "data": {
            "text/plain": [
              "[' TURMERIC', ' oI DEB YES', ' BANANA ', ' MANGO', ' Horticulture(Varieties)']"
            ]
          },
          "metadata": {},
          "execution_count": 36
        }
      ]
    },
    {
      "cell_type": "code",
      "metadata": {
        "colab": {
          "base_uri": "https://localhost:8080/"
        },
        "id": "Z3ChFRliX6pg",
        "outputId": "fb4e2c11-980f-42dd-e6e9-56f8b151075d"
      },
      "source": [
        "x"
      ],
      "execution_count": null,
      "outputs": [
        {
          "output_type": "execute_result",
          "data": {
            "text/plain": [
              "[[' \\x0c \\x0c'],\n",
              " [' Horticulture Specific Advisory\\n\\x0c Horticulture(Varieties)\\n\\x0c'],\n",
              " [' Incorporate green manure crops when the crop is at 50 % flowering.It will\\n\\nincreases the soil fertility and water holding capacity of the soil. For the\\ncontrol of leaf webber spray quinolphos@2.0 ml per lit of water.\\n\\n \\n\\x0c MANGO\\n\\x0c'],\n",
              " [' Present weather conditions are favourable for the incidence and spread of\\nsigatoka leaf spot disease. To prevent the spread of disease propiconazole @\\n\\n1.0 ml (or) tebuconazole + trifloxystrobin @ 1.5 ml per litre for 2-3 times in\\n30 days interval.\\n\\n \\n\\x0c BANANA\\n\\n \\n\\x0c'],\n",
              " [' For the control of leaf-eating caterpillars in Acid Lime , spray with Fenvalerate\\n\\n2.0 ml or Dimethoate 1.5 ml in water. A chemical DiPel containing Bacillus\\nthuringiensis can be sprayed with 1.0 g per liter of water for better results.\\n\\n \\n\\x0c oI DEB YES\\n\\x0c'],\n",
              " [' Present weather conditions are favourable for the incidence of leaf blotch\\n\\ndisease in Turmeric. Spray Carbendazim@1.0 g or Mancozeb@2.5 g or\\nThiophanate Methyl@ 1.0 g per lit of water for the control of disease.\\n\\n \\n\\x0c TURMERIC\\n\\x0c']]"
            ]
          },
          "metadata": {},
          "execution_count": 37
        }
      ]
    },
    {
      "cell_type": "code",
      "metadata": {
        "colab": {
          "base_uri": "https://localhost:8080/"
        },
        "id": "wo9dJbUOZ_1h",
        "outputId": "d0e9758b-3bc1-49de-8854-fd71390bfdb2"
      },
      "source": [
        "info"
      ],
      "execution_count": null,
      "outputs": [
        {
          "output_type": "execute_result",
          "data": {
            "text/plain": [
              "[' Present weather conditions are favourable for the incidence of leaf blotchdisease in Turmeric. Spray Carbendazim@1.0 g or Mancozeb@2.5 g orThiophanate Methyl@ 1.0 g per lit of water for the control of disease. ',\n",
              " ' For the control of leaf-eating caterpillars in Acid Lime , spray with Fenvalerate2.0 ml or Dimethoate 1.5 ml in water. A chemical DiPel containing Bacillusthuringiensis can be sprayed with 1.0 g per liter of water for better results. ',\n",
              " ' Present weather conditions are favourable for the incidence and spread ofsigatoka leaf spot disease. To prevent the spread of disease propiconazole @1.0 ml (or) tebuconazole + trifloxystrobin @ 1.5 ml per litre for 2-3 times in30 days interval. ',\n",
              " ' Incorporate green manure crops when the crop is at 50 % flowering.It willincreases the soil fertility and water holding capacity of the soil. For thecontrol of leaf webber spray quinolphos@2.0 ml per lit of water. ',\n",
              " ' Horticulture Specific Advisory']"
            ]
          },
          "metadata": {},
          "execution_count": 38
        }
      ]
    },
    {
      "cell_type": "code",
      "metadata": {
        "colab": {
          "base_uri": "https://localhost:8080/",
          "height": 175
        },
        "id": "1foLjasebTzQ",
        "outputId": "3f304b76-de6d-4587-ed4d-79fcccbd4b9d"
      },
      "source": [
        "df.head()"
      ],
      "execution_count": null,
      "outputs": [
        {
          "output_type": "execute_result",
          "data": {
            "text/html": [
              "<div>\n",
              "<style scoped>\n",
              "    .dataframe tbody tr th:only-of-type {\n",
              "        vertical-align: middle;\n",
              "    }\n",
              "\n",
              "    .dataframe tbody tr th {\n",
              "        vertical-align: top;\n",
              "    }\n",
              "\n",
              "    .dataframe thead th {\n",
              "        text-align: right;\n",
              "    }\n",
              "</style>\n",
              "<table border=\"1\" class=\"dataframe\">\n",
              "  <thead>\n",
              "    <tr style=\"text-align: right;\">\n",
              "      <th></th>\n",
              "      <th>ICrop(Varieties)</th>\n",
              "      <th>| Crop Specific Advisory |</th>\n",
              "    </tr>\n",
              "  </thead>\n",
              "  <tbody>\n",
              "    <tr>\n",
              "      <th>0</th>\n",
              "      <td>CASTOR</td>\n",
              "      <td>Prevailing conditions are favorable for inci...</td>\n",
              "    </tr>\n",
              "    <tr>\n",
              "      <th>1</th>\n",
              "      <td>COTTON</td>\n",
              "      <td>t present Cotton crop at flowering to pod de...</td>\n",
              "    </tr>\n",
              "    <tr>\n",
              "      <th>2</th>\n",
              "      <td>MAIZE</td>\n",
              "      <td>Farmers are advised to monitor incidence of ...</td>\n",
              "    </tr>\n",
              "    <tr>\n",
              "      <th>3</th>\n",
              "      <td>RICE</td>\n",
              "      <td>t present Rice crop at transplanting to till...</td>\n",
              "    </tr>\n",
              "  </tbody>\n",
              "</table>\n",
              "</div>"
            ],
            "text/plain": [
              "   ICrop(Varieties)                         | Crop Specific Advisory |\n",
              "0            CASTOR    Prevailing conditions are favorable for inci...\n",
              "1           COTTON     t present Cotton crop at flowering to pod de...\n",
              "2            MAIZE     Farmers are advised to monitor incidence of ...\n",
              "3             RICE     t present Rice crop at transplanting to till..."
            ]
          },
          "metadata": {},
          "execution_count": 63
        }
      ]
    },
    {
      "cell_type": "code",
      "metadata": {
        "colab": {
          "base_uri": "https://localhost:8080/"
        },
        "id": "e0gbaOylVR8p",
        "outputId": "a1fb7700-9b51-4806-bbe1-f50644053b2e"
      },
      "source": [
        "len(a)"
      ],
      "execution_count": null,
      "outputs": [
        {
          "output_type": "execute_result",
          "data": {
            "text/plain": [
              "8"
            ]
          },
          "metadata": {},
          "execution_count": 14
        }
      ]
    },
    {
      "cell_type": "code",
      "metadata": {
        "colab": {
          "base_uri": "https://localhost:8080/"
        },
        "id": "zX614-PAVTrp",
        "outputId": "591cb89e-a27a-4cb5-e839-6881499cb4d0"
      },
      "source": [
        "len(b)"
      ],
      "execution_count": null,
      "outputs": [
        {
          "output_type": "execute_result",
          "data": {
            "text/plain": [
              "8"
            ]
          },
          "metadata": {},
          "execution_count": 15
        }
      ]
    }
  ]
}